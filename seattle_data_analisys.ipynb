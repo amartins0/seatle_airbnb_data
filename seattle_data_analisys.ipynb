{
 "cells": [
  {
   "cell_type": "markdown",
   "metadata": {},
   "source": [
    "This notebook is part from the Data Scientist Nanodegrees from Udaicty. We will explore the calendar and listings from Airbnb homes of Seattle."
   ]
  },
  {
   "cell_type": "markdown",
   "metadata": {},
   "source": [
    "**1- The best time to visit**\n",
    "\n",
    "**Business Understanding**\n",
    "\n",
    "What are the most visited months? Are there any correlation between seasons and volume of bookings?\n"
   ]
  },
  {
   "cell_type": "code",
   "execution_count": null,
   "metadata": {},
   "outputs": [],
   "source": [
    "import pandas as pd\n",
    "import numpy as np\n",
    "import matplotlib.pyplot as plt"
   ]
  },
  {
   "cell_type": "markdown",
   "metadata": {},
   "source": [
    "Let's load the calendar and listings data and take a look at it."
   ]
  },
  {
   "cell_type": "code",
   "execution_count": null,
   "metadata": {},
   "outputs": [],
   "source": [
    "listings = pd.read_csv('listings.csv')\n",
    "calendar = pd.read_csv('calendar.csv')\n",
    "calendar.head()"
   ]
  },
  {
   "cell_type": "markdown",
   "metadata": {},
   "source": [
    "**Data Understanding**\n",
    "\n",
    "We need to find the mean of the prices by month and compare them to see the best "
   ]
  },
  {
   "cell_type": "markdown",
   "metadata": {},
   "source": [
    "**Prepare Data**\n",
    "\n",
    "By looking in the price column, we can see there are Nan's values, and Dolar sign that will impact in dealing with numeric type. We'll fix that next."
   ]
  },
  {
   "cell_type": "code",
   "execution_count": null,
   "metadata": {},
   "outputs": [],
   "source": [
    "def fix_prices(column_name, dataset_name):\n",
    "    ''' Take a column name and dataset that contain dolar sign and comma,\n",
    "        The function will update the dataframe with cleaned data.\n",
    "    '''\n",
    "    dataset_name[column_name] = dataset_name[column_name].str.replace('$','').str.replace(',','');\n",
    "\n",
    "def fix_numeric(column_name, dataset_name):\n",
    "    ''' Take a column name and dataset that are object type,\n",
    "        The function will change the type to numeric.\n",
    "    '''\n",
    "    dataset_name[column_name] = pd.to_numeric(dataset_name[column_name]);"
   ]
  },
  {
   "cell_type": "code",
   "execution_count": null,
   "metadata": {},
   "outputs": [],
   "source": [
    "fix_prices('price', calendar)\n",
    "fix_numeric('price', calendar)\n",
    "calendar.head()"
   ]
  },
  {
   "cell_type": "markdown",
   "metadata": {},
   "source": [
    "We've fixed Dolar sign and we have changed type to numeric.\n",
    "Now we'll fix the price column and see the prices by month."
   ]
  },
  {
   "cell_type": "code",
   "execution_count": null,
   "metadata": {},
   "outputs": [],
   "source": [
    "calendar['date'] = pd.to_datetime(calendar['date'])\n",
    "\n",
    "mean_of_month = calendar.groupby(calendar['date'].dt.strftime('%B'),\n",
    "                                 sort=False)['price'].mean()\n",
    "\n",
    "mean_of_month.plot(kind = 'barh' , figsize = (20,10));"
   ]
  },
  {
   "cell_type": "markdown",
   "metadata": {},
   "source": [
    "**Results**\n",
    "\n",
    "Prices hike during summer vacations and winter holidays. We can see a clear increase in the months of June, July and August. The month with the least amount of travel is January."
   ]
  },
  {
   "cell_type": "markdown",
   "metadata": {},
   "source": [
    "**2- Best Neighbourhoods**\n",
    "\n",
    "**Business Understanding**\n",
    "\n",
    "What are the 3 most expensive and least expensive neighbourhoods in Seattle for renting?"
   ]
  },
  {
   "cell_type": "markdown",
   "metadata": {},
   "source": [
    "**Data Understanding**\n",
    "Here I'll run an analysis to find out the 3 most expensive and least expensive neighborhoods in Seattle. For pricing First let's take a peek at the listings."
   ]
  },
  {
   "cell_type": "code",
   "execution_count": null,
   "metadata": {},
   "outputs": [],
   "source": [
    "listings = pd.read_csv('listings.csv')\n",
    "listings.head()"
   ]
  },
  {
   "cell_type": "code",
   "execution_count": null,
   "metadata": {},
   "outputs": [],
   "source": [
    "listings.columns"
   ]
  },
  {
   "cell_type": "markdown",
   "metadata": {},
   "source": [
    "**Prepare Data**\n",
    "\n",
    "There are 93 columns and a lot of features that will help us this analysis but we will focuses on following: neighbourhood, neighbourhood_cleansed, zipcode, property_type, room_type."
   ]
  },
  {
   "cell_type": "code",
   "execution_count": null,
   "metadata": {},
   "outputs": [],
   "source": [
    "columns_loc = ['id', 'neighbourhood', 'neighbourhood_cleansed',\n",
    "               'zipcode', 'property_type', 'room_type', 'price']\n",
    "\n",
    "listings_loc = listings[columns_loc]\n",
    "listings_loc.head()"
   ]
  },
  {
   "cell_type": "code",
   "execution_count": null,
   "metadata": {},
   "outputs": [],
   "source": [
    "listings_loc.describe(include='all')"
   ]
  },
  {
   "cell_type": "code",
   "execution_count": null,
   "metadata": {},
   "outputs": [],
   "source": [
    "count_values_cols = ['neighbourhood', 'neighbourhood_cleansed', 'property_type', 'room_type']\n",
    "\n",
    "def plot_values_counts(col):\n",
    "    print('\\n', col ,'\\n')\n",
    "    listings_loc[col].value_counts().plot(kind='barh', figsize=(20,10));\n",
    "    \n",
    "plot_values_counts ('property_type')"
   ]
  },
  {
   "cell_type": "markdown",
   "metadata": {},
   "source": [
    "Now we'll fix price as we did with calendar, merge Cabin, camper/rv etc since they have few values and drop neighbourhood, zipcode since neighbourhood_cleansed is more efficient and don't have any missing values."
   ]
  },
  {
   "cell_type": "code",
   "execution_count": null,
   "metadata": {},
   "outputs": [],
   "source": [
    "fix_price('price', listings_loc)\n",
    "fix_numeric('price', listings_loc)"
   ]
  },
  {
   "cell_type": "code",
   "execution_count": null,
   "metadata": {},
   "outputs": [],
   "source": [
    "# This will replace any value repated 30 times or less to \"other\"\n",
    "\n",
    "prop_tp = listings_loc['property_type'].value_counts()\n",
    "for c in range(len(prop_tp)):\n",
    "    val = prop_tp.values[c] \n",
    "    ind = prop_tp.index[c]\n",
    "    if val <= 30:\n",
    "        listings_loc['property_type']=listings_loc['property_type'].replace(ind,'Other');"
   ]
  },
  {
   "cell_type": "code",
   "execution_count": null,
   "metadata": {},
   "outputs": [],
   "source": [
    "listings_loc = listings_loc.drop(['neighbourhood', 'zipcode'] , axis = 1)\n",
    "listings_loc.head()"
   ]
  },
  {
   "cell_type": "code",
   "execution_count": null,
   "metadata": {},
   "outputs": [],
   "source": [
    "neighbourhood_count = pd.DataFrame()\n",
    "neighbourhood_count['count'] = listings_loc['neighbourhood_cleansed'].value_counts()\n",
    "neighbourhood_mean = pd.DataFrame()\n",
    "neighbourhood_mean['mean_price'] = listings_loc.groupby(listings_loc['neighbourhood_cleansed'])['price'].mean()\n",
    "neighbourhood_info = pd.merge(neighbourhood_mean, neighbourhood_count, left_on = neighbourhood_mean.index,right_on = neighbourhood_count.index)"
   ]
  },
  {
   "cell_type": "code",
   "execution_count": null,
   "metadata": {},
   "outputs": [],
   "source": [
    "neighbourhood_info.index = neighbourhood_info.key_0\n",
    "\n",
    "neighbourhood_info.sort_values(by = 'mean_price' ).iloc[0:10].plot(kind = 'barh',figsize = (20,10));"
   ]
  },
  {
   "cell_type": "code",
   "execution_count": null,
   "metadata": {},
   "outputs": [],
   "source": [
    "neighbourhood_info.sort_values(by = 'mean_price').iloc[67:-10].plot(kind = 'barh',figsize = (20,10));"
   ]
  },
  {
   "cell_type": "markdown",
   "metadata": {},
   "source": [
    "**Conclusion**\n",
    "\n",
    "Above we see the highest neighbourhoods in Seattle (Pioneer Square, Central Business DistrictFauntleroy) and lowest neighbourhoods (Rainier Beach, Olympic Hills, South Delridge)"
   ]
  },
  {
   "cell_type": "markdown",
   "metadata": {},
   "source": [
    "**3- Popular Airbnb Homes**"
   ]
  },
  {
   "cell_type": "markdown",
   "metadata": {},
   "source": [
    "**Business Understanding**\n",
    "\n",
    "Are hosts who have a high review score rating charging renters more? Figure out if Hosts, with higher review rating score, are charging renters a higher price.\n",
    "\n",
    "**Data Understanding**\n",
    "\n",
    "Since we need to do a price comparison between listings, we need a way to calculate a price value irrespective of the number of bedrooms, bathrooms etc. One way to do that would be to calculate price per accommodation. The data offers information on price and accommodation, therefore we'll create a new columns 'price_per_accommodation' and fill it with price/accommodation."
   ]
  },
  {
   "cell_type": "code",
   "execution_count": null,
   "metadata": {},
   "outputs": [],
   "source": [
    "host_response_vals = df_listings['host_response_time'].value_counts()\n",
    "(host_response_vals/df_listings.shape[0]).plot(kind=\"bar\");"
   ]
  },
  {
   "cell_type": "markdown",
   "metadata": {},
   "source": [
    "**Model Data**\n",
    "\n",
    "Our analysis will be for the following review scores: 7, 8, 9, 10. Let's see if there is a correlation between hosts with high review rating and price of listing."
   ]
  },
  {
   "cell_type": "code",
   "execution_count": null,
   "metadata": {},
   "outputs": [],
   "source": [
    "# Calculate price per accomnodation for each listing\n",
    "listings['price_per_accommodation'] = listings['price_val'] / listings['accommodates']\n",
    "\n",
    "def get_prices_for_review_score(df):\n",
    "    \"\"\"Return mean prices for review score values\n",
    "    df - DataFrame on which to retrieve prices\"\"\"\n",
    "    prices = np.zeros(4)\n",
    "    \n",
    "    for i in range(4):\n",
    "        review_score = 7 + i\n",
    "        prices[i] = df[(df['review_scores_value'] == review_score)]['price_per_accommodation'].mean()\n",
    "\n",
    "    return prices\n",
    "\n",
    "prices = get_prices_for_review_score(listings)\n",
    "reviews = ('7', '8', '9', '10')\n",
    "reviews_pos = np.arange(len(reviews))\n",
    "\n",
    "plt.plot(reviews, prices)\n",
    "plt.xticks(reviews_pos, reviews)\n",
    "plt.xlabel('Review scores value')\n",
    "plt.ylabel('Price per accommodation')\n",
    "plt.show()"
   ]
  },
  {
   "cell_type": "markdown",
   "metadata": {},
   "source": [
    "**Results**\n",
    "\n",
    "We can see that there's an upward trend in pricing as review score values increase. Hosts who've received higher review scores are charging more."
   ]
  },
  {
   "cell_type": "code",
   "execution_count": null,
   "metadata": {},
   "outputs": [],
   "source": []
  }
 ],
 "metadata": {
  "kernelspec": {
   "display_name": "Python 3",
   "language": "python",
   "name": "python3"
  },
  "language_info": {
   "codemirror_mode": {
    "name": "ipython",
    "version": 3
   },
   "file_extension": ".py",
   "mimetype": "text/x-python",
   "name": "python",
   "nbconvert_exporter": "python",
   "pygments_lexer": "ipython3",
   "version": "3.7.2"
  }
 },
 "nbformat": 4,
 "nbformat_minor": 2
}
